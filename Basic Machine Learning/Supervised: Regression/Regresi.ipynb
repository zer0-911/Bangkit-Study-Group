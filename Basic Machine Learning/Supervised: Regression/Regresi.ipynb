{
 "cells": [
  {
   "attachments": {},
   "cell_type": "markdown",
   "metadata": {},
   "source": [
    "## **Implementasi program Regresi Linear Satu Variabel**\n",
    "\n",
    "\n",
    "\n",
    "![image.png](data:image/png;base64,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)\n",
    "\n",
    "\n"
   ]
  },
  {
   "attachments": {},
   "cell_type": "markdown",
   "metadata": {},
   "source": [
    "Dicari relasi fungsi dari variabel $x$ dan $y$ yang memenuhi persamaan\n",
    "\n",
    "$\\begin{equation}y=c_0+c_1x\\end{equation}$ \n",
    "\n",
    "Langkah-Langkah :\n",
    "\n",
    "Dari persamaan diatas dan data pada tabel maka diperoleh persamaan \n",
    "\n",
    "$y_1 = c_0+c_1 x_1$ \\\n",
    "$y_2 = c_0+c_1 x_2$ \\\n",
    "$y_3 = c_0+c_1 x_3$ \\\n",
    "$y_4 = c_0+c_1 x_4$ \\\n",
    "$y_5 = c_0+c_1 x_5$ \\\n",
    "$y_6 = c_0+c_1 x_6$ \\\n",
    "$y_7 = c_0+c_1 x_7$ \n",
    "\n",
    "\n",
    "\n",
    "atau dalam bentuk matrix \n",
    "\n",
    "$\\begin{bmatrix}y_1 \\\\ y_2\\\\ y_3\\\\y_4 \\\\ y_5 \\\\ y_6 \\\\y_7\n",
    "\\end{bmatrix}=\\begin{bmatrix} 1&x_1 \\\\ 1&x_2 \\\\ 1&x_3 \\\\ 1&x_4 \\\\ 1&x_5 \\\\ 1&x_6 \\\\ 1&x_7  \n",
    "\\end{bmatrix}\\begin{bmatrix}c_0 \\\\ c_1\\end{bmatrix}$\n",
    "\n",
    "atau\n",
    "\n",
    "$y=Ac$\n",
    "\n",
    "maka diperoleh \n",
    "\n",
    "$c=(\\textbf{A}^T\\textbf{A})^{-1}\\textbf{A}y$\n",
    "\n",
    "atau\n",
    "\n",
    "$c=A^+y$\n",
    "\n",
    "\n",
    "untuk \n",
    "\n",
    "$\\textbf{x}=\\begin{bmatrix}\n",
    "\t0.1\t\\\\1\\\\\t2.5\\\\\t3\\\\\t6\\\\\t7\\\\\t7.8\n",
    "\\end{bmatrix}$\n",
    "\n",
    "$\\textbf{y}=\\begin{bmatrix}0.4\\\\1.2\\\\2.8\\\\3.3\\\\6.3\\\\7.32\\\\8.13\n",
    "\\end{bmatrix}$\n",
    "\n",
    "Maka diperoleh  $\\textbf{A}$\n",
    "\n",
    "\n",
    "$\\textbf{A}=\\begin{bmatrix}\n",
    "\t1&0.1\\\\1&1\\\\1&2.5\\\\1&3\\\\1&6\\\\1&7\\\\1&7.8\n",
    "\\end{bmatrix}$\n",
    "\n",
    "Dicari vektor  $\\textbf{c}$\n",
    "\n",
    "$\\textbf{c}=\\begin{bmatrix}\n",
    "c_0\\\\c_1\n",
    "\\end{bmatrix}$\n",
    "\n",
    "\n",
    "Menghitung $\\textbf{A}^+=(\\textbf{A}^T\\textbf{A})^{-1}\\textbf{A}^T$\n",
    "di peroleh : \n",
    "\n",
    "$\\begin{equation}\n",
    "\\textbf{A}^+= \\begin{bmatrix}\n",
    "0.41&   0.35&   0.24&    0.20&  0& -0.07&  -0.13&\\\\\n",
    "-0.06&  -0.05&  -0.02&  -0.01&   0.03&   0.05&   0.07\n",
    "\\end{bmatrix}\n",
    "\\end{equation}$ \n",
    "\n",
    "Menghitung $\\textbf{c}$\n",
    "\n",
    "$\\begin{equation}\n",
    "c=\\textbf{A}^+\\textbf{y}\n",
    "\\end{equation}$\n",
    "\n",
    "$\\begin{equation}\n",
    "\\textbf{c}=\\begin{bmatrix}\n",
    "0.41&   0.35&   0.24&    0.20&  0& -0.07&  -0.13&\\\\\n",
    "-0.06&  -0.05&  -0.02&  -0.01&   0.03&   0.05&   0.07\n",
    "\\end{bmatrix}\\begin{bmatrix}0.4\\\\1.2\\\\2.8\\\\3.3\\\\6.3\\\\7.32\\\\8.13\n",
    "\\end{bmatrix}\n",
    "\\end{equation}$\n",
    "\n",
    "$\\begin{equation}\n",
    "\\textbf{c}=\\begin{bmatrix}\n",
    "\tc_0\\\\\n",
    "\tc_1\n",
    "\\end{bmatrix}=\n",
    "\\begin{bmatrix}\n",
    "\t0.079976\\\\\n",
    "\t1.021218\n",
    "\\end{bmatrix}\n",
    "\\end{equation} $\n",
    "\n",
    "maka diperoleh persamaan linear :\n",
    "$\\begin{equation}\n",
    "y =0.25933583+1.00856384x\n",
    "\\end{equation}$\n"
   ]
  },
  {
   "cell_type": "code",
   "execution_count": 2,
   "metadata": {},
   "outputs": [
    {
     "name": "stdout",
     "output_type": "stream",
     "text": [
      "Nilai c : \n",
      "[[0.25933583]\n",
      " [1.00856384]]\n"
     ]
    },
    {
     "data": {
      "text/plain": [
       "[<matplotlib.lines.Line2D at 0x7fefad6bce80>]"
      ]
     },
     "execution_count": 2,
     "metadata": {},
     "output_type": "execute_result"
    },
    {
     "data": {
      "image/png": "[encoded data removed]",
      "text/plain": [
       "<Figure size 432x288 with 1 Axes>"
      ]
     },
     "metadata": {
      "needs_background": "light"
     },
     "output_type": "display_data"
    }
   ],
   "source": [
    "import numpy as np \n",
    "import matplotlib.pyplot as plt\n",
    "#Data sampling[]\n",
    "x= np.array([[0.1],\n",
    "             [1],\n",
    "             [2.5],\n",
    "             [3],\n",
    "             [6],\n",
    "             [7],\n",
    "             [7.8]])\n",
    "y= np.array([[0.4],\n",
    "             [1.2],\n",
    "             [2.8],\n",
    "             [3.3],\n",
    "             [6.3],\n",
    "             [7.32],\n",
    "             [8.13]])\n",
    "\n",
    "# Relasi antara x dan y memenuhi persamaan\n",
    "#    y=c0+c1x\n",
    "br,kol = x.shape\n",
    "#Membangun Matrix A= [1 x]\n",
    "A=np.ones([br,2])\n",
    "A[:,1]=x[:,0]\n",
    "#Menghitung Pseudo Inverse Matrix A dengan fungsi np.linalg.pinv dan disimpan dalam variabel Ap\n",
    "Ap=np.linalg.pinv(A)\n",
    "#Menghitung Prameter  c=Ap*y\n",
    "c=np.matmul(Ap,y)\n",
    "print(\"Nilai c : \")\n",
    "print(c)\n",
    "#Menerapkan c yang di peroleh untuk memprediksi nilai y \n",
    "# yp=A*c  ->yp=hasil predisksi \n",
    "yp =np.matmul(A,c)\n",
    "\n",
    "#Menampilkan Titik sampling\n",
    "plt.scatter(x, y)\n",
    "\n",
    "#Menampilkan Grafik yp hasil prediksi\n",
    "plt.plot(x, yp)"
   ]
  }
 ],
 "metadata": {
  "kernelspec": {
   "display_name": "Python 3",
   "language": "python",
   "name": "python3"
  },
  "language_info": {
   "codemirror_mode": {
    "name": "ipython",
    "version": 3
   },
   "file_extension": ".py",
   "mimetype": "text/x-python",
   "name": "python",
   "nbconvert_exporter": "python",
   "pygments_lexer": "ipython3",
   "version": "3.10.6"
  },
  "orig_nbformat": 4
 },
 "nbformat": 4,
 "nbformat_minor": 2
}
