{
 "cells": [
  {
   "cell_type": "code",
   "execution_count": 3,
   "metadata": {},
   "outputs": [
    {
     "name": "stdout",
     "output_type": "stream",
     "text": [
      "     x   y\n",
      "0  151  63\n",
      "1  174  81\n",
      "2  138  56\n",
      "3  186  91\n",
      "4  128  47\n",
      "5  136  57\n",
      "6  179  76\n",
      "7  163  72\n",
      "8  152  62\n",
      "9  131  48\n",
      "Coeficient:  [0.67461045]\n",
      "Intercept:  -38.45508707607701\n",
      "[76.22868928 81.62557287 84.32401467 66.10953254 49.24427131]\n"
     ]
    },
    {
     "data": {
      "image/png": "[encoded data removed]",
      "text/plain": [
       "<Figure size 432x288 with 1 Axes>"
      ]
     },
     "metadata": {
      "needs_background": "light"
     },
     "output_type": "display_data"
    }
   ],
   "source": [
    "import numpy as np\n",
    "import pandas as pd\n",
    "from matplotlib import pyplot as plt\n",
    "from sklearn.linear_model import LinearRegression\n",
    "from sklearn.metrics import mean_squared_error\n",
    "from sklearn.linear_model import SGDRegressor\n",
    "\n",
    "# Definisikan dataset \n",
    "df = pd.DataFrame([[151,63],[174,81],[138,56],[186,91],[128,47],[136,57],[179,76],[163,72],[152,62],[131,48]])\n",
    "df.columns = ['x', 'y']\n",
    "print(df)\n",
    "\n",
    "X_train = df['x'].values[:, np.newaxis]\n",
    "y_train = df['y'].values\n",
    "\n",
    "# Create & train model\n",
    "lm = LinearRegression()\n",
    "lm.fit(X_train, y_train)\n",
    "\n",
    "# Menampilkan nilai coef & intercept\n",
    "print('Coeficient: ', lm.coef_)\n",
    "print('Intercept: ', lm.intercept_)\n",
    "\n",
    "# Data yang akan diprediksi\n",
    "X_test = [[170], [178], [182], [155], [130]]\n",
    "\n",
    "# Menampilkan hasil prediksi\n",
    "p = lm.predict(X_test)\n",
    "print(p)\n",
    "\n",
    "# Plot data\n",
    "pb = lm.predict(X_train)\n",
    "dfc = pd.DataFrame({'x': df['x'],'y':pb})\n",
    "\n",
    "plt.scatter(df['x'],df['y'])\n",
    "plt.plot(dfc['x'],dfc['y'],color='red',linewidth=1)\n",
    "plt.xlabel('Tinggi dalam cm')\n",
    "plt.ylabel('Berat dalam Kg')\n",
    "plt.grid()\n",
    "plt.show()"
   ]
  },
  {
   "cell_type": "code",
   "execution_count": 4,
   "metadata": {},
   "outputs": [
    {
     "name": "stdout",
     "output_type": "stream",
     "text": [
      "Mean Squared Error:  8.465215398716767\n"
     ]
    }
   ],
   "source": [
    "mse= mean_squared_error(y_train, pb)\n",
    "print('Mean Squared Error: ', mse)"
   ]
  },
  {
   "cell_type": "code",
   "execution_count": 7,
   "metadata": {},
   "outputs": [
    {
     "name": "stdout",
     "output_type": "stream",
     "text": [
      "Coeficient:  [2.09999391e+11]\n",
      "Intercept:  [2.47798941e+10]\n",
      "[3.57246764e+13 3.74046716e+13 3.82446691e+13 3.25746856e+13\n",
      " 2.73247008e+13]\n"
     ]
    },
    {
     "data": {
      "image/png": "[encoded data removed]",
      "text/plain": [
       "<Figure size 432x288 with 1 Axes>"
      ]
     },
     "metadata": {
      "needs_background": "light"
     },
     "output_type": "display_data"
    }
   ],
   "source": [
    "GD = SGDRegressor(max_iter=1000, tol=1e-3)\n",
    "GD.fit(X_train, y_train)\n",
    "\n",
    "# Menampilkan nilai coef & intercept\n",
    "print('Coeficient: ', GD.coef_)\n",
    "print('Intercept: ', GD.intercept_)\n",
    "# Data yang akan diprediksi\n",
    "X_test = [[170], [178], [182], [155], [130]]\n",
    "\n",
    "# Menampilkan hasil prediksi\n",
    "p = GD.predict(X_test)\n",
    "print(p)\n",
    "\n",
    "# Plot data\n",
    "pb = GD.predict(X_train)\n",
    "dfc = pd.DataFrame({'x': df['x'],'y':pb})\n",
    "\n",
    "plt.scatter(df['x'],df['y'])\n",
    "plt.plot(dfc['x'],dfc['y'],color='red',linewidth=1)\n",
    "plt.xlabel('Tinggi dalam cm')\n",
    "plt.ylabel('Berat dalam Kg')\n",
    "plt.grid()\n",
    "plt.show()"
   ]
  }
 ],
 "metadata": {
  "kernelspec": {
   "display_name": "Python 3",
   "language": "python",
   "name": "python3"
  },
  "language_info": {
   "codemirror_mode": {
    "name": "ipython",
    "version": 3
   },
   "file_extension": ".py",
   "mimetype": "text/x-python",
   "name": "python",
   "nbconvert_exporter": "python",
   "pygments_lexer": "ipython3",
   "version": "3.10.6"
  },
  "orig_nbformat": 4
 },
 "nbformat": 4,
 "nbformat_minor": 2
}
