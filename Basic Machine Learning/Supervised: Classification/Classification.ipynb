{
 "cells": [
  {
   "cell_type": "code",
   "execution_count": 6,
   "metadata": {},
   "outputs": [
    {
     "name": "stdout",
     "output_type": "stream",
     "text": [
      "Cluster 1: [[1, 2], [2, 1], [2, 3], [3, 2]]\n",
      "Cluster 2: [[6, 5], [7, 5], [5, 6], [7, 6]]\n"
     ]
    }
   ],
   "source": [
    "import random\n",
    "import math\n",
    "import matplotlib.pyplot as plt\n",
    "# Inisialisasi data\n",
    "data = [[1, 2], [2, 1], [2, 3], [3, 2], [6, 5], [7, 5], [5, 6], [7, 6]]\n",
    "\n",
    "# Inisialisasi jumlah cluster\n",
    "k = 2\n",
    "\n",
    "# Inisialisasi centroid awal secara acak\n",
    "centroids = []\n",
    "for i in range(k):\n",
    "    centroids.append(random.choice(data))\n",
    "\n",
    "# Fungsi untuk menghitung jarak Euclidean\n",
    "def euclidean_distance(point1, point2):\n",
    "    distance = 0\n",
    "    for i in range(len(point1)):\n",
    "        distance += (point1[i] - point2[i])**2\n",
    "    return math.sqrt(distance)\n",
    "\n",
    "# Fungsi untuk mengelompokkan data ke dalam cluster\n",
    "def assign_cluster(data, centroids):\n",
    "    clusters = {}\n",
    "    for point in data:\n",
    "        min_distance = float('inf')\n",
    "        for i in range(len(centroids)):\n",
    "            distance = euclidean_distance(point, centroids[i])\n",
    "            if distance < min_distance:\n",
    "                min_distance = distance\n",
    "                cluster_id = i\n",
    "        if cluster_id in clusters:\n",
    "            clusters[cluster_id].append(point)\n",
    "        else:\n",
    "            clusters[cluster_id] = [point]\n",
    "    return clusters\n",
    "\n",
    "# Fungsi untuk memperbarui posisi centroid\n",
    "def update_centroids(clusters):\n",
    "    centroids = []\n",
    "    for cluster_id in clusters:\n",
    "        centroid = []\n",
    "        for i in range(len(clusters[cluster_id][0])):\n",
    "            centroid.append(sum([point[i] for point in clusters[cluster_id]]) / len(clusters[cluster_id]))\n",
    "        centroids.append(centroid)\n",
    "    return centroids\n",
    "\n",
    "# Fungsi untuk memeriksa apakah centroid telah konvergen\n",
    "def has_converged(old_centroids, centroids):\n",
    "    for i in range(len(centroids)):\n",
    "        if euclidean_distance(old_centroids[i], centroids[i]) > 0:\n",
    "            return False\n",
    "    return True\n",
    "\n",
    "# Algoritma k-Means\n",
    "while True:\n",
    "    clusters = assign_cluster(data, centroids)\n",
    "    new_centroids = update_centroids(clusters)\n",
    "    if has_converged(centroids, new_centroids):\n",
    "        break\n",
    "    centroids = new_centroids\n",
    "\n",
    "# Cetak hasil cluster\n",
    "for cluster_id in clusters:\n",
    "    print(f\"Cluster {cluster_id+1}: {clusters[cluster_id]}\")"
   ]
  },
  {
   "cell_type": "code",
   "execution_count": 7,
   "metadata": {},
   "outputs": [
    {
     "data": {
      "image/png": "[encoded data removed]",
      "text/plain": [
       "<Figure size 432x288 with 1 Axes>"
      ]
     },
     "metadata": {
      "needs_background": "light"
     },
     "output_type": "display_data"
    }
   ],
   "source": [
    "# Plot hasil cluster\n",
    "colors = ['red', 'green', 'blue', 'yellow', 'purple', 'orange']\n",
    "for cluster_id in clusters:\n",
    "    for point in clusters[cluster_id]:\n",
    "        plt.scatter(point[0], point[1], color=colors[cluster_id])\n",
    "for centroid in centroids:\n",
    "    plt.scatter(centroid[0], centroid[1], marker='x', s=100, linewidths=3, color='black')\n",
    "plt.show()"
   ]
  }
 ],
 "metadata": {
  "kernelspec": {
   "display_name": "Python 3",
   "language": "python",
   "name": "python3"
  },
  "language_info": {
   "codemirror_mode": {
    "name": "ipython",
    "version": 3
   },
   "file_extension": ".py",
   "mimetype": "text/x-python",
   "name": "python",
   "nbconvert_exporter": "python",
   "pygments_lexer": "ipython3",
   "version": "3.10.6"
  },
  "orig_nbformat": 4
 },
 "nbformat": 4,
 "nbformat_minor": 2
}
